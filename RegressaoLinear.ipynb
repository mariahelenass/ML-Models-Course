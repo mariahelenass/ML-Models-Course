{
  "nbformat": 4,
  "nbformat_minor": 0,
  "metadata": {
    "colab": {
      "provenance": [],
      "authorship_tag": "ABX9TyMQ1u3Xo37XIgV7NY1OpPVE",
      "include_colab_link": true
    },
    "kernelspec": {
      "name": "python3",
      "display_name": "Python 3"
    },
    "language_info": {
      "name": "python"
    }
  },
  "cells": [
    {
      "cell_type": "markdown",
      "metadata": {
        "id": "view-in-github",
        "colab_type": "text"
      },
      "source": [
        "<a href=\"https://colab.research.google.com/github/mariahelenass/ML-Models-Course/blob/main/RegressaoLinear.ipynb\" target=\"_parent\"><img src=\"https://colab.research.google.com/assets/colab-badge.svg\" alt=\"Open In Colab\"/></a>"
      ]
    },
    {
      "cell_type": "markdown",
      "source": [
        "### Regressão Linear"
      ],
      "metadata": {
        "id": "Lla_1nH9JRiN"
      }
    },
    {
      "cell_type": "code",
      "source": [
        "from numpy import *"
      ],
      "metadata": {
        "id": "bteSXARoJUzT"
      },
      "execution_count": 3,
      "outputs": []
    },
    {
      "cell_type": "code",
      "source": [
        "class LinearRegression:\n",
        "  def __init__(self, x, y):\n",
        "    self.x = x\n",
        "    self.y = y\n",
        "    self.__correlation_coefficient = self.__correlacao()\n",
        "    self.__inclination = self.__inclinacao()\n",
        "    self.__intercept = self.__interceptacao()\n",
        "\n",
        "\n",
        "  def __correlacao(self):\n",
        "    covariacao = cov(self.x, self.y, bias=True)[0][1]\n",
        "    var_x = var(self.x)\n",
        "    var_y = var(self.y)\n",
        "    correlacao = covariacao / sqrt(var_x * var_y)\n",
        "    return correlacao\n",
        "\n",
        "\n",
        "  def __inclinacao(self):\n",
        "    desvio_x = std(self.x)\n",
        "    desvio_y = std(self.y)\n",
        "    inclinacao = self.__correlation_coefficient * (desvio_y / desvio_x)\n",
        "    return inclinacao\n",
        "\n",
        "\n",
        "  def __interceptacao(self):\n",
        "    media_x = mean(self.x)\n",
        "    media_y = mean(self.y)\n",
        "    interceptacao = media_y - (self.__inclination * media_x)\n",
        "    return interceptacao\n",
        "\n",
        "\n",
        "  def previsao(self, valor):\n",
        "    previsao = self.__intercept + (self.__inclination * valor)\n",
        "    return previsao"
      ],
      "metadata": {
        "id": "F6PDCOfZJbEI"
      },
      "execution_count": 14,
      "outputs": []
    },
    {
      "cell_type": "code",
      "source": [
        "x = array([10,20,30,40])\n",
        "y = array([20,40,60,80])\n",
        "\n",
        "regressao_linear = LinearRegression(x,y)\n",
        "previsao = regressao_linear.previsao(50)\n",
        "print(previsao)\n"
      ],
      "metadata": {
        "colab": {
          "base_uri": "https://localhost:8080/"
        },
        "id": "dZSHsPVcQA-r",
        "outputId": "b4dbef6b-026c-44b5-fbb3-4ba0bfcc6dc6"
      },
      "execution_count": 18,
      "outputs": [
        {
          "output_type": "stream",
          "name": "stdout",
          "text": [
            "100.0\n"
          ]
        }
      ]
    }
  ]
}